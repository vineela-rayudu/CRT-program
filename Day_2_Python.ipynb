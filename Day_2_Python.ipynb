{
  "nbformat": 4,
  "nbformat_minor": 0,
  "metadata": {
    "colab": {
      "name": "Day 2 Python",
      "provenance": []
    },
    "kernelspec": {
      "name": "python3",
      "display_name": "Python 3"
    }
  },
  "cells": [
    {
      "cell_type": "code",
      "metadata": {
        "id": "-STtstw5Xfqp",
        "colab_type": "code",
        "colab": {
          "base_uri": "https://localhost:8080/",
          "height": 204
        },
        "outputId": "8028ef63-8189-42dc-fcc5-092649186c19"
      },
      "source": [
        "n=int(input(\"\"))\n",
        "i=1\n",
        "while i<=n:\n",
        "  print(i)\n",
        "  i=i+1"
      ],
      "execution_count": 4,
      "outputs": [
        {
          "output_type": "stream",
          "text": [
            "10\n",
            "1\n",
            "2\n",
            "3\n",
            "4\n",
            "5\n",
            "6\n",
            "7\n",
            "8\n",
            "9\n",
            "10\n"
          ],
          "name": "stdout"
        }
      ]
    },
    {
      "cell_type": "code",
      "metadata": {
        "id": "LwJlOoI1Y7zH",
        "colab_type": "code",
        "colab": {
          "base_uri": "https://localhost:8080/",
          "height": 51
        },
        "outputId": "9ba19fd0-72e6-4d66-ede4-2c2a60369289"
      },
      "source": [
        "n=int(input(\"\"))\n",
        "sum=0\n",
        "while n!=0:\n",
        "  r=n%10\n",
        "  sum=sum+r\n",
        "  n=n//10\n",
        "print(sum)  \n"
      ],
      "execution_count": 6,
      "outputs": [
        {
          "output_type": "stream",
          "text": [
            "123\n",
            "6\n"
          ],
          "name": "stdout"
        }
      ]
    },
    {
      "cell_type": "code",
      "metadata": {
        "id": "OyE7ctFjataQ",
        "colab_type": "code",
        "colab": {
          "base_uri": "https://localhost:8080/",
          "height": 51
        },
        "outputId": "29891f96-c6d0-4dcb-d1df-d919ae06e817"
      },
      "source": [
        "n=int(input(\"\"))\n",
        "while n!=0:\n",
        "  print(n%10,end='')\n",
        "  n=n//10"
      ],
      "execution_count": 7,
      "outputs": [
        {
          "output_type": "stream",
          "text": [
            "123\n",
            "321"
          ],
          "name": "stdout"
        }
      ]
    },
    {
      "cell_type": "code",
      "metadata": {
        "id": "Q8-B6lIkcw2K",
        "colab_type": "code",
        "colab": {
          "base_uri": "https://localhost:8080/",
          "height": 187
        },
        "outputId": "08767423-f766-4a44-f63e-2141585820ff"
      },
      "source": [
        "for i in range(0,10):\n",
        "  print(i)"
      ],
      "execution_count": 9,
      "outputs": [
        {
          "output_type": "stream",
          "text": [
            "0\n",
            "1\n",
            "2\n",
            "3\n",
            "4\n",
            "5\n",
            "6\n",
            "7\n",
            "8\n",
            "9\n"
          ],
          "name": "stdout"
        }
      ]
    },
    {
      "cell_type": "code",
      "metadata": {
        "id": "clSGR2GagqUw",
        "colab_type": "code",
        "colab": {
          "base_uri": "https://localhost:8080/",
          "height": 102
        },
        "outputId": "64946e12-b6a9-413c-d07d-557c9c6f680d"
      },
      "source": [
        "for i in range(1,10+1,2):\n",
        "  print(i)"
      ],
      "execution_count": 12,
      "outputs": [
        {
          "output_type": "stream",
          "text": [
            "1\n",
            "3\n",
            "5\n",
            "7\n",
            "9\n"
          ],
          "name": "stdout"
        }
      ]
    },
    {
      "cell_type": "code",
      "metadata": {
        "id": "xxtKLdI8g7rD",
        "colab_type": "code",
        "colab": {
          "base_uri": "https://localhost:8080/",
          "height": 119
        },
        "outputId": "6391a54e-8dac-4b6b-da94-17e3dd08adfa"
      },
      "source": [
        "for i in \"python\":\n",
        "  print(i)"
      ],
      "execution_count": 15,
      "outputs": [
        {
          "output_type": "stream",
          "text": [
            "p\n",
            "y\n",
            "t\n",
            "h\n",
            "o\n",
            "n\n"
          ],
          "name": "stdout"
        }
      ]
    },
    {
      "cell_type": "code",
      "metadata": {
        "id": "2PyuBYoJhfkF",
        "colab_type": "code",
        "colab": {
          "base_uri": "https://localhost:8080/",
          "height": 34
        },
        "outputId": "e0d68206-d615-4e86-acaa-5abdbede35b8"
      },
      "source": [
        "def addition(a,b):\n",
        "    c=a+b\n",
        "    print(c)\n",
        "addition(1,2)\n"
      ],
      "execution_count": 17,
      "outputs": [
        {
          "output_type": "stream",
          "text": [
            "3\n"
          ],
          "name": "stdout"
        }
      ]
    },
    {
      "cell_type": "code",
      "metadata": {
        "id": "OTRXcCKzmKX_",
        "colab_type": "code",
        "colab": {
          "base_uri": "https://localhost:8080/",
          "height": 34
        },
        "outputId": "7196caa8-7b41-416b-ec7d-f095d28feccb"
      },
      "source": [
        "def int(n):\n",
        "    sum=0\n",
        "    while n!=0:\n",
        "      r=n%10\n",
        "      if r%2==0:\n",
        "        sum=sum+r\n",
        "      n=n//10\n",
        "    return sum\n",
        "int(1234)"
      ],
      "execution_count": 27,
      "outputs": [
        {
          "output_type": "execute_result",
          "data": {
            "text/plain": [
              "6"
            ]
          },
          "metadata": {
            "tags": []
          },
          "execution_count": 27
        }
      ]
    },
    {
      "cell_type": "code",
      "metadata": {
        "id": "ci2GJyxgoUbQ",
        "colab_type": "code",
        "colab": {
          "base_uri": "https://localhost:8080/",
          "height": 34
        },
        "outputId": "4187fe91-f5ee-4ab2-da8f-4ad76b2e4247"
      },
      "source": [
        "def int(n):\n",
        "    sum=0\n",
        "    while n!=0:\n",
        "      r=n%10\n",
        "      if r%2==0:\n",
        "        sum=sum+r\n",
        "      n=n//10\n",
        "    print(sum)\n",
        "int(1234)"
      ],
      "execution_count": 28,
      "outputs": [
        {
          "output_type": "stream",
          "text": [
            "6\n"
          ],
          "name": "stdout"
        }
      ]
    },
    {
      "cell_type": "code",
      "metadata": {
        "id": "eoNRFlqSrLhF",
        "colab_type": "code",
        "colab": {
          "base_uri": "https://localhost:8080/",
          "height": 34
        },
        "outputId": "b02bfcdb-c22d-4d6f-e923-e8d13d25c643"
      },
      "source": [
        "def int(n):\n",
        "    large=0\n",
        "    while n!=0:\n",
        "      r=n%10\n",
        "      if large <r:\n",
        "        large=r\n",
        "      n=n//10\n",
        "    return large\n",
        "int(19535)  "
      ],
      "execution_count": 30,
      "outputs": [
        {
          "output_type": "execute_result",
          "data": {
            "text/plain": [
              "9"
            ]
          },
          "metadata": {
            "tags": []
          },
          "execution_count": 30
        }
      ]
    },
    {
      "cell_type": "code",
      "metadata": {
        "id": "gsXuAfG6tqUQ",
        "colab_type": "code",
        "colab": {
          "base_uri": "https://localhost:8080/",
          "height": 34
        },
        "outputId": "5eb950ca-ca63-439d-bab0-72c0d7d4dc3c"
      },
      "source": [
        "def pali(n):\n",
        "    sum=0\n",
        "    num=n\n",
        "    while n!=0:\n",
        "        r=n%10\n",
        "        sum=sum*10+r\n",
        "        n=n//10\n",
        "    if sum==num:\n",
        "       print(\"palindrome\")\n",
        "    else:\n",
        "      print(\"not palindrome\")\n",
        "    return\n",
        "pali(121)"
      ],
      "execution_count": 35,
      "outputs": [
        {
          "output_type": "stream",
          "text": [
            "palindrome\n"
          ],
          "name": "stdout"
        }
      ]
    },
    {
      "cell_type": "code",
      "metadata": {
        "id": "tGOerduOwNhQ",
        "colab_type": "code",
        "colab": {}
      },
      "source": [
        ""
      ],
      "execution_count": 0,
      "outputs": []
    }
  ]
}